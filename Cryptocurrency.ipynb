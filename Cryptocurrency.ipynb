{
 "cells": [
  {
   "cell_type": "markdown",
   "metadata": {},
   "source": [
    "# Module 2 - Create a Cryptocurrency"
   ]
  },
  {
   "cell_type": "markdown",
   "metadata": {},
   "source": [
    "### Import the Libraries"
   ]
  },
  {
   "cell_type": "code",
   "execution_count": 1,
   "metadata": {},
   "outputs": [],
   "source": [
    "import datetime\n",
    "import hashlib\n",
    "import json\n",
    "from flask import Flask, jsonify, request\n",
    "import requests\n",
    "from uuid import uuid4\n",
    "from urllib.parse import urlparse"
   ]
  },
  {
   "cell_type": "markdown",
   "metadata": {},
   "source": [
    "### Part 1 - Building a Blockchain"
   ]
  },
  {
   "cell_type": "code",
   "execution_count": 2,
   "metadata": {},
   "outputs": [],
   "source": [
    "class Blockchain:\n",
    "    \n",
    "    def __init__(self):\n",
    "        self.chain = []\n",
    "        self.transactions = []\n",
    "        self.nodes = set()\n",
    "        self.create_block(proof = 1, previous_hash = '0')\n",
    "        \n",
    "    def create_block(self, proof, previous_hash):\n",
    "        block = {'index' : len(self.chain) + 1,\n",
    "                 'timestamp' : str(datetime.datetime.now()),\n",
    "                 'proof' : proof,\n",
    "                 'transactions' : self.transactions,\n",
    "                 'previous_hash' : previous_hash}\n",
    "        self.transactions = []\n",
    "        self.chain.append(block)\n",
    "        return block\n",
    "    \n",
    "    def get_previous_block(self):\n",
    "        return self.chain[-1]\n",
    "    \n",
    "    def proof_of_work(self, previous_proof):\n",
    "        new_proof = 1\n",
    "        check_proof = False\n",
    "        while check_proof is False:\n",
    "            hash_operation = hashlib.sha256(str(new_proof**2 - previous_proof**2).encode()).hexdigest()\n",
    "            if hash_operation[:4] == '0000':\n",
    "                check_proof = True\n",
    "            else:\n",
    "                new_proof += 1\n",
    "        return new_proof\n",
    "    \n",
    "    def hash(self, block):\n",
    "        encoded_block = json.dumps(block, sort_keys = True).encode()\n",
    "        return hashlib.sha256(encoded_block).hexdigest()\n",
    "    \n",
    "    def is_chain_valid(self, chain):\n",
    "        previous_block = chain[0]\n",
    "        block_index = 1\n",
    "        while block_index < len(chain):\n",
    "            block = chain[block_index]\n",
    "            if block['previous_hash'] != self.hash(previous_block):\n",
    "                return False\n",
    "            previous_proof = previous_block['proof']\n",
    "            proof = block['proof']\n",
    "            hash_operation = hashlib.sha256(str(proof**2 - previous_proof**2).encode()).hexdigest()\n",
    "            if hash_operation[:4] != '0000':\n",
    "                check_proof = False\n",
    "            previous_block = block\n",
    "            block_index += 1\n",
    "        return True\n",
    "    \n",
    "    def add_transaction(self, sender, receiver, amount):\n",
    "        self.transactions.append({'sender' : sender,\n",
    "                                  'receiver' : receiver,\n",
    "                                  'amount' : amount})\n",
    "        previous_block = self.get_previous_block()\n",
    "        return previous_block['index'] + 1\n",
    "    \n",
    "    def add_node(self, address):\n",
    "        parsed_url = urlparse(address)\n",
    "        self.nodes.add(parsed_url.netloc)\n",
    "        \n",
    "    def replace_chain(self):\n",
    "        network = self.nodes\n",
    "        longest_chain = None\n",
    "        max_length = len(self.chain)\n",
    "        for node in network:\n",
    "            response = requests.get(f'http://{node}/get_chain')\n",
    "            if response.status_code == 200:\n",
    "                length = response.json()['length']\n",
    "                chain = response.json()['chain']\n",
    "                if length > max_length and self.is_chain_valid(chain) == True:\n",
    "                    max_length = length\n",
    "                    longest_chain = chain\n",
    "        if longest_chain:\n",
    "            self.chain = longest_chain\n",
    "            return True\n",
    "        return False"
   ]
  },
  {
   "cell_type": "markdown",
   "metadata": {},
   "source": [
    "### Part 2 - Mining a Blockchain"
   ]
  },
  {
   "cell_type": "code",
   "execution_count": 3,
   "metadata": {},
   "outputs": [],
   "source": [
    "# Creating a Web App\n",
    "app = Flask(__name__)\n",
    "\n",
    "# Creating an address for the node on port 5000\n",
    "node_address = str(uuid4()).replace('-', '')\n",
    "\n",
    "# Creating a Blockchain\n",
    "blockchain = Blockchain()\n",
    "\n",
    "# Mining a new Block\n",
    "@app.route('/mine_block', methods = ['GET'])\n",
    "def mine_block():\n",
    "    previous_block = blockchain.get_previous_block()\n",
    "    previous_proof = previous_block['proof']\n",
    "    proof = blockchain.proof_of_work(previous_proof)\n",
    "    previous_hash = blockchain.hash(previous_block)\n",
    "    blockchain.add_transaction(sender = node_address, receiver = 'Hadelin', amount = 1)\n",
    "    block = blockchain.create_block(proof, previous_hash)\n",
    "    response = {'message' : 'Congratulations, You just mined a block!',\n",
    "                'index':block['index'],\n",
    "                'timestamp':block['timestamp'],\n",
    "                'proof':block['proof'],\n",
    "                'transactions' : block['transactions'],\n",
    "                'previous_hash':block['previous_hash']}\n",
    "    return jsonify(response), 200\n",
    "\n",
    "# Getting the full Blockchain\n",
    "@app.route('/get_chain', methods = ['GET'])\n",
    "def get_chain():\n",
    "    response = {'length' : len(blockchain.chain),\n",
    "                'chain' : blockchain.chain}\n",
    "    return jsonify(response), 200\n",
    "\n",
    "# Checking if the Blockchain is valid\n",
    "@app.route('/is_valid', methods = ['GET'])\n",
    "def is_valid():\n",
    "    return jsonify({'is_valid' : blockchain.is_chain_valid(blockchain.chain)}), 200\n",
    "\n",
    "# Adding a new transaction to the Blockchain\n",
    "@app.route('/add_transaction', methods = ['POST'])\n",
    "def add_transaction():\n",
    "    json = request.get_json()\n",
    "    transaction_keys = ['sender', 'receiver', 'amount']\n",
    "    if not all (key in json for key in transaction_keys):\n",
    "        return 'Transaction is Invalid!', 400\n",
    "    index = blockchain.add_transaction(json['sender'], json['receiver'], json['amount'])\n",
    "    response = {'message' : f'This tranaction will be added to Block {index}.'}\n",
    "    return jsonify(response), 201"
   ]
  },
  {
   "cell_type": "markdown",
   "metadata": {},
   "source": [
    "### Part 3 - Decentralizing the Blockchain"
   ]
  },
  {
   "cell_type": "code",
   "execution_count": 4,
   "metadata": {},
   "outputs": [],
   "source": [
    "# Connecting new nodes\n",
    "@app.route('/connect_node', methods = ['POST'])\n",
    "def connect_node():\n",
    "    json = request.get_json()\n",
    "    nodes = json.get('nodes')\n",
    "    if nodes is None:\n",
    "        return 'No Node', 400\n",
    "    for node in nodes:\n",
    "        blockchain.add_node(node)\n",
    "    response = {\n",
    "        'message' : 'All the nodes are now connected',\n",
    "        'total_nodes' : list(blockchain.nodes)\n",
    "    }\n",
    "    return jsonify(response), 201\n",
    "\n",
    "# Replacing the chain by the longest chain if needed\n",
    "@app.route('/replace_chain', methods = ['GET'])\n",
    "def replace_chain():\n",
    "    is_chain_replaced = blockchain.replace_chain()\n",
    "    if is_chain_replaced:\n",
    "        response = {\n",
    "            'message' : 'The Chain has been updated.',\n",
    "            'length' : len(blockchain.chain),\n",
    "            'new_chain' : blockchain.chain\n",
    "        }\n",
    "    else:\n",
    "        response = {\n",
    "            'message' : 'The chain is the largest.',\n",
    "            'length' : len(blockchain.chain),\n",
    "            'actual_chain' : blockchain.chain\n",
    "        }\n",
    "    return jsonify(response), 200"
   ]
  },
  {
   "cell_type": "code",
   "execution_count": 5,
   "metadata": {},
   "outputs": [
    {
     "name": "stderr",
     "output_type": "stream",
     "text": [
      " * Running on http://0.0.0.0:5000/ (Press CTRL+C to quit)\n"
     ]
    }
   ],
   "source": [
    "# Running the app\n",
    "app.run(host = '0.0.0.0', port = 5000)"
   ]
  },
  {
   "cell_type": "markdown",
   "metadata": {},
   "source": [
    "# ----    End of Code    ----"
   ]
  }
 ],
 "metadata": {
  "kernelspec": {
   "display_name": "Python 3",
   "language": "python",
   "name": "python3"
  },
  "language_info": {
   "codemirror_mode": {
    "name": "ipython",
    "version": 3
   },
   "file_extension": ".py",
   "mimetype": "text/x-python",
   "name": "python",
   "nbconvert_exporter": "python",
   "pygments_lexer": "ipython3",
   "version": "3.6.4"
  }
 },
 "nbformat": 4,
 "nbformat_minor": 2
}
