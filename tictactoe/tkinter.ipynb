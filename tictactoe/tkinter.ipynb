{
 "cells": [
  {
   "cell_type": "code",
   "execution_count": 1,
   "metadata": {},
   "outputs": [],
   "source": [
    "import tkinter as tk\n",
    "import tkinter.messagebox\n",
    "import tkinter.simpledialog"
   ]
  },
  {
   "cell_type": "code",
   "execution_count": 9,
   "metadata": {},
   "outputs": [],
   "source": [
    "class App(tk.Frame):\n",
    "    def __init__(self,master=None):\n",
    "        super().__init__(master)\n",
    "        self.pack()\n",
    "        self.create_widgets()\n",
    "        \n",
    "    def create_widgets(self):\n",
    "        pic_ttt = tk.PhotoImage(file=\"ttt.gif\")\n",
    "        self.info_game = tk.Label(image=pic_ttt)\n",
    "        self.info_game.pack(side=\"top\")\n",
    "        \n",
    "        self.play_game = tk.Button(self, text=\"Play\", command=self.play, font=100 )\n",
    "        self.play_game.pack(side=\"top\")\n",
    "        \n",
    "        self.help_game = tk.Button(self, text=\"Help\", command=self.help, font=100)\n",
    "        self.help_game.pack(side=\"top\")\n",
    "        \n",
    "        self.quit_game = tk.Button(self, text=\"Quit\", fg=\"red\", command=self.quit, font=100)\n",
    "        self.quit_game.pack(side='bottom')\n",
    "        \n",
    "    def play(self):\n",
    "        tk.messagebox.showinfo(\"Game\", \"Let's play Tic Tac Toe\\nEasy\\nMedium\\nImpossible\\nPLay against a Friend\")\n",
    "        #tk.Label(text=\"Fuck Off! Beyotch\")\n",
    "    \n",
    "    def help(self):\n",
    "        tk.messagebox.showinfo(\"Help\", \"We are happy to help you.\")\n",
    "        \n",
    "    def quit(self):\n",
    "        if (tk.messagebox.askyesno(\"Quit\", \"Do you really want to quit?\")):\n",
    "            root.destroy()\n",
    "\n",
    "        \n",
    "root = tk.Tk()\n",
    "root.title('Tic Tac Toe')\n",
    "root.geometry(\"1000x500\")\n",
    "ttt = App(master=root)\n",
    "ttt.mainloop()"
   ]
  },
  {
   "cell_type": "code",
   "execution_count": null,
   "metadata": {},
   "outputs": [],
   "source": []
  },
  {
   "cell_type": "code",
   "execution_count": null,
   "metadata": {},
   "outputs": [],
   "source": []
  },
  {
   "cell_type": "code",
   "execution_count": null,
   "metadata": {},
   "outputs": [],
   "source": []
  },
  {
   "cell_type": "code",
   "execution_count": 3,
   "metadata": {},
   "outputs": [],
   "source": [
    "#window = tk.Tk()\n",
    "#window.title(\"Tic Tac Toe\")"
   ]
  }
 ],
 "metadata": {
  "kernelspec": {
   "display_name": "Python 3",
   "language": "python",
   "name": "python3"
  },
  "language_info": {
   "codemirror_mode": {
    "name": "ipython",
    "version": 3
   },
   "file_extension": ".py",
   "mimetype": "text/x-python",
   "name": "python",
   "nbconvert_exporter": "python",
   "pygments_lexer": "ipython3",
   "version": "3.6.4"
  }
 },
 "nbformat": 4,
 "nbformat_minor": 2
}
